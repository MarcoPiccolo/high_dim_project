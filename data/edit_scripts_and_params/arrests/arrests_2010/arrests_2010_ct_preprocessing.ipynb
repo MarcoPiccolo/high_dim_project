{
 "cells": [
  {
   "cell_type": "markdown",
   "id": "f0ee3224-5897-4903-b465-21d9a77071bc",
   "metadata": {},
   "source": [
    "Preprocessing of the arrest 2010 Census Tracts dataset"
   ]
  },
  {
   "cell_type": "code",
   "execution_count": 36,
   "id": "ea44b028",
   "metadata": {},
   "outputs": [],
   "source": [
    "import pandas as pd\n",
    "import geopandas as gpd\n",
    "from shapely.geometry import Point # used to find the corresponding spatial zone\n",
    "import sys\n",
    "import os # to use functions defined in other scripts\n",
    "\n",
    "# add scripts dir to path\n",
    "# Add the relative path to the system path\n",
    "edit_df_folder = os.path.abspath('../..')\n",
    "if edit_df_folder not in sys.path:\n",
    "    sys.path.append(edit_df_folder)\n",
    "\n",
    "# Import the editing scripts\n",
    "from edit_funcs import *\n",
    "\n",
    "# add data subdirectories to path    \n",
    "core_folder_arrests =  os.path.abspath('../../../core_datasets/arrests')\n",
    "if core_folder_arrests not in sys.path:\n",
    "    sys.path.append(core_folder_arrests)\n",
    "    \n",
    "final_datasets_folder =  os.path.abspath('../../../final_datasets')\n",
    "if final_datasets_folder not in sys.path:\n",
    "    sys.path.append(final_datasets_folder)\n",
    "    \n",
    "coordinates_maps_folder =  os.path.abspath('../../../coordinates_maps')\n",
    "if coordinates_maps_folder not in sys.path:\n",
    "    sys.path.append(coordinates_maps_folder)\n",
    "    \n",
    "var_to_keep_folder =  os.path.abspath('../')\n",
    "if coordinates_maps_folder not in sys.path:\n",
    "    sys.path.append(coordinates_maps_folder)\n",
    "\n",
    "census_folder =  os.path.abspath('../../../census_data')\n",
    "if census_folder not in sys.path:\n",
    "    sys.path.append(census_folder)\n",
    "\n",
    "census_var_to_keep_folder =  os.path.abspath('../../census')\n",
    "if census_var_to_keep_folder not in sys.path:\n",
    "    sys.path.append(census_var_to_keep_folder)\n",
    "\n",
    "\n",
    "# Absolute paths of files\n",
    "# Actual data of interest\n",
    "core_df_path = os.path.join(core_folder_arrests,\n",
    "                                   \"NYPD_Arrests_Data__Historic__20241202.csv\")\n",
    "\n",
    "# first processing\n",
    "var_v1_to_keep_path = os.path.join(var_to_keep_folder,\"arrests_var_to_keep.csv\")\n",
    "# second processing\n",
    "var_v2_to_keep_path = os.path.join(var_to_keep_folder,\"arrests_v2_var_to_keep.csv\")\n",
    "\n",
    "coordinates_file_path = os.path.join(coordinates_maps_folder, \"2020 Census Tracts_20241216.geojson\")\n",
    "\n",
    "output_df_path = os.path.join(core_folder_arrests,\n",
    "                                   \"arrests_2010_cta.csv\")\n",
    "\n",
    "# census related\n",
    "census_data_path = os.path.join(census_folder,\n",
    "                                \"nyc_decennialcensusdata_2010_core-geographies.CSV\")\n",
    "census_var_to_keep_path = os.path.join(census_var_to_keep_folder,\n",
    "                                \"census_variables_to_keep.CSV\")\n",
    "\n",
    "\n",
    "# Other useful variables\n",
    "date_variable_name = \"ARREST_DATE\"\n",
    "age_group_variable_name = \"AGE_GROUP\"\n",
    "\n",
    "considered_years_list = [\"2010\"]\n",
    "\n",
    "# coordinates name variable: we only keep this info\n",
    "census_coord_var_name = \"GeoType\"\n",
    "census_coord_value_to_keep = [\"CT2020\"]\n",
    "\n",
    "# join by space keys: they should have the same variable\n",
    "df_space_var_name = \"geoid\"\n",
    "census_df_space_var_name = \"GeoID\""
   ]
  },
  {
   "cell_type": "markdown",
   "id": "e851fe42",
   "metadata": {},
   "source": [
    "Filter columns"
   ]
  },
  {
   "cell_type": "code",
   "execution_count": 37,
   "id": "4f5e0a71-72af-4a6d-83b3-8679986c5ef3",
   "metadata": {},
   "outputs": [],
   "source": [
    "\n",
    "\n",
    "# load first df of variables to keep\n",
    "\n",
    "var_v1_to_keep_df = pd.read_csv(var_v1_to_keep_path)\n",
    "\n",
    "df = FilterColumns(df = pd.read_csv(core_df_path),\n",
    "                   var_df = var_v1_to_keep_df)\n"
   ]
  },
  {
   "cell_type": "markdown",
   "id": "2013dbb6",
   "metadata": {},
   "source": [
    "Filter rows: keep only year 2010"
   ]
  },
  {
   "cell_type": "code",
   "execution_count": 38,
   "id": "29cdae5a",
   "metadata": {},
   "outputs": [],
   "source": [
    "df = FilterRowsContains(df = df,\n",
    "                        var_name = date_variable_name,\n",
    "                        accepted_var_values = considered_years_list)"
   ]
  },
  {
   "cell_type": "markdown",
   "id": "ab9d825a",
   "metadata": {},
   "source": [
    "Add MONTH variable"
   ]
  },
  {
   "cell_type": "code",
   "execution_count": 39,
   "id": "de21eaf9",
   "metadata": {},
   "outputs": [],
   "source": [
    "df = AddMONTH(df = df,\n",
    "    date_var_name= date_variable_name,\n",
    "    date_format = '%m/%d/%Y')"
   ]
  },
  {
   "cell_type": "markdown",
   "id": "d627a147",
   "metadata": {},
   "source": [
    "Add CT indicator variables"
   ]
  },
  {
   "cell_type": "code",
   "execution_count": 40,
   "id": "5273708b",
   "metadata": {},
   "outputs": [],
   "source": [
    "\n",
    "# Read the GeoJSON file into a GeoDataFrame\n",
    "gdf = gpd.read_file(coordinates_file_path)\n",
    "\n",
    "df = ConvertToGeodf(df,\n",
    "                    long = \"Longitude\",\n",
    "                    lat = \"Latitude\",\n",
    "                    crs = gdf.crs)\n",
    "# actually join the two by inclusion:\n",
    "# df coordinates which are in polygons defined by gdf data\n",
    "df = SJoinWithinGeo(geodf_units = df,\n",
    "                    geodf2_polygons = gdf)"
   ]
  },
  {
   "cell_type": "markdown",
   "id": "cb78d058",
   "metadata": {},
   "source": [
    "Second column filtering.\n",
    "Remove latitude and longitude coordinates variables.\n",
    "Remove complete date time variable.\n",
    "(WARNING: we're using a different columns to keep file: arrests_v2).\n",
    "Here we keep both Census tract variable (CTLabel) both NTA variable (NTA2020)."
   ]
  },
  {
   "cell_type": "code",
   "execution_count": 41,
   "id": "94ef20a5",
   "metadata": {},
   "outputs": [],
   "source": [
    "# load first df of variables to keep\n",
    "var_v2_to_keep_df = pd.read_csv(var_v2_to_keep_path)\n",
    "\n",
    "# filter columns\n",
    "df = FilterColumns(df = df, var_df = var_v2_to_keep_df)"
   ]
  },
  {
   "cell_type": "markdown",
   "id": "defcc97d",
   "metadata": {},
   "source": [
    "Look for missing and most likely values."
   ]
  },
  {
   "cell_type": "code",
   "execution_count": 42,
   "id": "ed671b3d",
   "metadata": {},
   "outputs": [
    {
     "name": "stdout",
     "output_type": "stream",
     "text": [
      "Unique values in column 'ARREST_DATE': ARREST_DATE\n",
      "2010-01-20    1773\n",
      "2010-05-20    1725\n",
      "2010-03-05    1700\n",
      "2010-01-22    1694\n",
      "2010-03-03    1661\n",
      "              ... \n",
      "2010-12-24     356\n",
      "2010-11-25     280\n",
      "2010-12-26     224\n",
      "2010-12-25     171\n",
      "2010-12-27      91\n",
      "Name: count, Length: 365, dtype: int64\n",
      "Unique values in column 'KY_CD': KY_CD\n",
      "235.0    82064\n",
      "344.0    36842\n",
      "343.0    26019\n",
      "677.0    24634\n",
      "117.0    22939\n",
      "         ...  \n",
      "102.0        7\n",
      "349.0        5\n",
      "882.0        4\n",
      "577.0        2\n",
      "357.0        1\n",
      "Name: count, Length: 69, dtype: int64\n",
      "Unique values in column 'LAW_CAT_CD': LAW_CAT_CD\n",
      "M    292227\n",
      "F     97524\n",
      "V     29548\n",
      "I      1890\n",
      "Name: count, dtype: int64\n",
      "Unique values in column 'AGE_GROUP': AGE_GROUP\n",
      "25-44    183083\n",
      "18-24    118629\n",
      "45-64     75032\n",
      "<18       42577\n",
      "65+        3001\n",
      "Name: count, dtype: int64\n",
      "Unique values in column 'PERP_SEX': PERP_SEX\n",
      "M    352850\n",
      "F     69472\n",
      "Name: count, dtype: int64\n",
      "Unique values in column 'PERP_RACE': PERP_RACE\n",
      "BLACK                             208789\n",
      "WHITE HISPANIC                    110216\n",
      "WHITE                              49981\n",
      "BLACK HISPANIC                     32889\n",
      "ASIAN / PACIFIC ISLANDER           15141\n",
      "UNKNOWN                             4406\n",
      "AMERICAN INDIAN/ALASKAN NATIVE       900\n",
      "Name: count, dtype: int64\n",
      "Unique values in column 'nta2020': nta2020\n",
      "MN1102    10501\n",
      "MN0502     9740\n",
      "BK1602     7299\n",
      "BK0301     7215\n",
      "BX0401     7158\n",
      "          ...  \n",
      "SI9561        4\n",
      "BK1892        4\n",
      "QN8381        3\n",
      "SI9593        2\n",
      "QN8492        1\n",
      "Name: count, Length: 250, dtype: int64\n",
      "Unique values in column 'geoid': geoid\n",
      "36061010900    4316\n",
      "36061019600    3414\n",
      "36061010100    2214\n",
      "36005031900    2112\n",
      "36061018200    1939\n",
      "               ... \n",
      "36081091602       1\n",
      "36005030100       1\n",
      "36081155101       1\n",
      "36047064000       1\n",
      "36061023804       1\n",
      "Name: count, Length: 2308, dtype: int64\n",
      "Unique values in column 'MONTH': MONTH\n",
      "3     37818\n",
      "4     37795\n",
      "10    37728\n",
      "5     37447\n",
      "1     37437\n",
      "6     36040\n",
      "8     35391\n",
      "7     35176\n",
      "9     34143\n",
      "11    33327\n",
      "2     31714\n",
      "12    28306\n",
      "Name: count, dtype: int64\n"
     ]
    }
   ],
   "source": [
    "for column in df.columns:\n",
    "    print(f\"Unique values in column '{column}': { df[column].value_counts()}\")"
   ]
  },
  {
   "cell_type": "markdown",
   "id": "36a51fa0",
   "metadata": {},
   "source": []
  },
  {
   "cell_type": "markdown",
   "id": "8ec8b097",
   "metadata": {},
   "source": [
    "First we uniform missing values to UNKNOWN"
   ]
  },
  {
   "cell_type": "code",
   "execution_count": 43,
   "id": "8009c0fa",
   "metadata": {},
   "outputs": [],
   "source": [
    "df.replace(['(null)'], 'UNKNOWN', inplace=True)"
   ]
  },
  {
   "cell_type": "markdown",
   "id": "41a08988",
   "metadata": {},
   "source": [
    "Second we remove non understandable age group values"
   ]
  },
  {
   "cell_type": "code",
   "execution_count": 44,
   "id": "ecffe51e",
   "metadata": {},
   "outputs": [
    {
     "name": "stderr",
     "output_type": "stream",
     "text": [
      "C:\\Users\\User\\AppData\\Local\\Temp\\ipykernel_19436\\3774651995.py:1: FutureWarning: A value is trying to be set on a copy of a DataFrame or Series through chained assignment using an inplace method.\n",
      "The behavior will change in pandas 3.0. This inplace method will never work because the intermediate object on which we are setting values always behaves as a copy.\n",
      "\n",
      "For example, when doing 'df[col].method(value, inplace=True)', try using 'df.method({col: value}, inplace=True)' or df[col] = df[col].method(value) instead, to perform the operation inplace on the original object.\n",
      "\n",
      "\n",
      "  df[age_group_variable_name].replace([\"2020\", \"2019\", \"-977\", \"-962\", \"-71\", \"-12\", \"-942\", \"1020\", \"-965\", \"1925\", \"-928\",\n"
     ]
    }
   ],
   "source": [
    "df[age_group_variable_name].replace([\"2020\", \"2019\", \"-977\", \"-962\", \"-71\", \"-12\", \"-942\", \"1020\", \"-965\", \"1925\", \"-928\",\n",
    "            \"-948\", \"-967\", \"-4\", \"-958\", \"943\", \"-968\", \"949\", \"-973\", \"-2\", \"932\", \"-31\", \"-938\",\n",
    "            \"1016\", \"1014\", \"-60\", \"-1\", \"938\", \"950\", \"-963\"],\n",
    "           'UNKNOWN',\n",
    "           inplace=True)"
   ]
  },
  {
   "cell_type": "code",
   "execution_count": 45,
   "id": "cffe8834",
   "metadata": {},
   "outputs": [
    {
     "name": "stdout",
     "output_type": "stream",
     "text": [
      "Unique values in column 'ARREST_DATE': ARREST_DATE\n",
      "2010-01-20    1773\n",
      "2010-05-20    1725\n",
      "2010-03-05    1700\n",
      "2010-01-22    1694\n",
      "2010-03-03    1661\n",
      "              ... \n",
      "2010-12-24     356\n",
      "2010-11-25     280\n",
      "2010-12-26     224\n",
      "2010-12-25     171\n",
      "2010-12-27      91\n",
      "Name: count, Length: 365, dtype: int64\n",
      "Unique values in column 'KY_CD': KY_CD\n",
      "235.0    82064\n",
      "344.0    36842\n",
      "343.0    26019\n",
      "677.0    24634\n",
      "117.0    22939\n",
      "         ...  \n",
      "102.0        7\n",
      "349.0        5\n",
      "882.0        4\n",
      "577.0        2\n",
      "357.0        1\n",
      "Name: count, Length: 69, dtype: int64\n",
      "Unique values in column 'LAW_CAT_CD': LAW_CAT_CD\n",
      "M    292227\n",
      "F     97524\n",
      "V     29548\n",
      "I      1890\n",
      "Name: count, dtype: int64\n",
      "Unique values in column 'AGE_GROUP': AGE_GROUP\n",
      "25-44    183083\n",
      "18-24    118629\n",
      "45-64     75032\n",
      "<18       42577\n",
      "65+        3001\n",
      "Name: count, dtype: int64\n",
      "Unique values in column 'PERP_SEX': PERP_SEX\n",
      "M    352850\n",
      "F     69472\n",
      "Name: count, dtype: int64\n",
      "Unique values in column 'PERP_RACE': PERP_RACE\n",
      "BLACK                             208789\n",
      "WHITE HISPANIC                    110216\n",
      "WHITE                              49981\n",
      "BLACK HISPANIC                     32889\n",
      "ASIAN / PACIFIC ISLANDER           15141\n",
      "UNKNOWN                             4406\n",
      "AMERICAN INDIAN/ALASKAN NATIVE       900\n",
      "Name: count, dtype: int64\n",
      "Unique values in column 'nta2020': nta2020\n",
      "MN1102    10501\n",
      "MN0502     9740\n",
      "BK1602     7299\n",
      "BK0301     7215\n",
      "BX0401     7158\n",
      "          ...  \n",
      "SI9561        4\n",
      "BK1892        4\n",
      "QN8381        3\n",
      "SI9593        2\n",
      "QN8492        1\n",
      "Name: count, Length: 250, dtype: int64\n",
      "Unique values in column 'geoid': geoid\n",
      "36061010900    4316\n",
      "36061019600    3414\n",
      "36061010100    2214\n",
      "36005031900    2112\n",
      "36061018200    1939\n",
      "               ... \n",
      "36081091602       1\n",
      "36005030100       1\n",
      "36081155101       1\n",
      "36047064000       1\n",
      "36061023804       1\n",
      "Name: count, Length: 2308, dtype: int64\n",
      "Unique values in column 'MONTH': MONTH\n",
      "3     37818\n",
      "4     37795\n",
      "10    37728\n",
      "5     37447\n",
      "1     37437\n",
      "6     36040\n",
      "8     35391\n",
      "7     35176\n",
      "9     34143\n",
      "11    33327\n",
      "2     31714\n",
      "12    28306\n",
      "Name: count, dtype: int64\n"
     ]
    }
   ],
   "source": [
    "for column in df.columns:\n",
    "    print(f\"Unique values in column '{column}': { df[column].value_counts()}\")"
   ]
  },
  {
   "cell_type": "markdown",
   "id": "c5df7265",
   "metadata": {},
   "source": [
    "Join with selected census dataset by space location"
   ]
  },
  {
   "cell_type": "code",
   "execution_count": 46,
   "id": "083dc776",
   "metadata": {},
   "outputs": [
    {
     "name": "stderr",
     "output_type": "stream",
     "text": [
      "C:\\Users\\User\\AppData\\Local\\Temp\\ipykernel_19436\\1780135901.py:2: DtypeWarning: Columns (3,5,6) have mixed types. Specify dtype option on import or set low_memory=False.\n",
      "  census_df = pd.read_csv(census_data_path,\n"
     ]
    },
    {
     "name": "stdout",
     "output_type": "stream",
     "text": [
      "471     36005031900\n",
      "478     36047030700\n",
      "545     36061010900\n",
      "1452    36047001501\n",
      "1453    36005006500\n",
      "Name: geoid, dtype: object\n",
      "390    36005000100\n",
      "391    36005000200\n",
      "392    36005000400\n",
      "393    36005001600\n",
      "394    36005001901\n",
      "Name: GeoID, dtype: object\n"
     ]
    }
   ],
   "source": [
    "# read census data\n",
    "census_df = pd.read_csv(census_data_path, \n",
    "                        sep = \";\")\n",
    "\n",
    "# filter type of coordinates\n",
    "census_df = FilterRowsContains(df = census_df,\n",
    "                               var_name = census_coord_var_name,\n",
    "                               accepted_var_values = census_coord_value_to_keep)\n",
    "\n",
    "# read census variables to keep\n",
    "census_var_to_keep_df = pd.read_csv(census_var_to_keep_path,\n",
    "                                    sep = \";\")\n",
    "\n",
    "# filter columns\n",
    "\n",
    "census_df = FilterColumns(df = census_df,\n",
    "                          var_df = census_var_to_keep_df)\n",
    "\n",
    "# Ensure key columns have the same data type \n",
    "df[df_space_var_name] = df[df_space_var_name].astype(str)\n",
    "census_df[census_df_space_var_name] = census_df[census_df_space_var_name].astype(str)\n",
    "\n",
    "# debug\n",
    "print(df[df_space_var_name].head())\n",
    "print(census_df[census_df_space_var_name].head())\n",
    "\n",
    "# join with df based on GeoID\n",
    "df = pd.merge(df, census_df,\n",
    "              left_on = df_space_var_name,\n",
    "              right_on = census_df_space_var_name,\n",
    "              how = \"inner\")"
   ]
  },
  {
   "cell_type": "markdown",
   "id": "d9b5288e",
   "metadata": {},
   "source": [
    "Save to csv"
   ]
  },
  {
   "cell_type": "code",
   "execution_count": 47,
   "id": "8c5a6aea",
   "metadata": {},
   "outputs": [],
   "source": [
    "\n",
    "df.to_csv(output_df_path, index = False)"
   ]
  }
 ],
 "metadata": {
  "kernelspec": {
   "display_name": "Python 3",
   "language": "python",
   "name": "python3"
  },
  "language_info": {
   "codemirror_mode": {
    "name": "ipython",
    "version": 3
   },
   "file_extension": ".py",
   "mimetype": "text/x-python",
   "name": "python",
   "nbconvert_exporter": "python",
   "pygments_lexer": "ipython3",
   "version": "3.12.0"
  }
 },
 "nbformat": 4,
 "nbformat_minor": 5
}
