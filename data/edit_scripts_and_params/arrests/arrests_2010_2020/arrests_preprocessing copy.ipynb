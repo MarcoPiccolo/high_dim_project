{
 "cells": [
  {
   "cell_type": "markdown",
   "id": "f0ee3224-5897-4903-b465-21d9a77071bc",
   "metadata": {},
   "source": [
    "Preprocessing of the arrest dataset: copy the json file in this folder, change its parameters and execute this script to save the new dataset"
   ]
  },
  {
   "cell_type": "code",
   "execution_count": 1,
   "id": "ea44b028",
   "metadata": {},
   "outputs": [],
   "source": [
    "import pandas as pd\n",
    "import geopandas as gpd\n",
    "from shapely.geometry import Point # used to find the corresponding spatial zone\n",
    "import json\n",
    "import sys\n",
    "import os # to use functions defined in other scripts\n",
    "\n",
    "# add scripts dir to path\n",
    "# Add the relative path to the system path\n",
    "# Load configuration from JSON file \n",
    "with open('arrests_nta_2010_2020_pars.json', 'r') as f: \n",
    "    config = json.load(f) # Add directories to the system path \n",
    "    for folder in config['folders'].values():\n",
    "        abs_path = os.path.abspath(folder)\n",
    "        if abs_path not in sys.path:\n",
    "            sys.path.append(abs_path)\n",
    "\n",
    "\n",
    "import os\n",
    "import sys\n",
    "import json\n",
    "\n",
    "# Load configuration from JSON file\n",
    "with open('arrests_nta_2010_2020_pars.json', 'r') as f:\n",
    "    config = json.load(f)\n",
    "\n",
    "# Add directories to the system path\n",
    "for folder in config['folders'].values():\n",
    "    abs_path = os.path.abspath(folder)\n",
    "    if abs_path not in sys.path:\n",
    "        sys.path.append(abs_path)\n",
    "\n",
    "# Import the editing scripts\n",
    "from edit_funcs import *\n",
    "\n",
    "# Absolute paths of files\n",
    "core_df_path = os.path.join(os.path.abspath(config['folders']['core_folder_arrests']), config['files']['core_df_path'])\n",
    "var_v1_to_keep_path = os.path.join(os.path.abspath(config['folders']['var_to_keep_folder']), config['files']['var_v1_to_keep_path'])\n",
    "var_v2_to_keep_path = os.path.join(os.path.abspath(config['folders']['var_to_keep_folder']), config['files']['var_v2_to_keep_path'])\n",
    "coordinates_file_path = os.path.join(os.path.abspath(config['folders']['coordinates_maps_folder']), config['files']['coordinates_file_path'])\n",
    "output_df_path = os.path.join(os.path.abspath(config['folders']['final_datasets_folder']), config['files']['output_df_path'])\n",
    "census_data_path = os.path.join(os.path.abspath(config['folders']['census_folder']), config['files']['census_data_path'])\n",
    "census_var_to_keep_path = os.path.join(os.path.abspath(config['folders']['census_var_to_keep_folder']), config['files']['census_var_to_keep_path'])\n",
    "\n",
    "# Other useful variables\n",
    "date_variable_name = config['variables']['date_variable_name']\n",
    "age_group_variable_name = config['variables']['age_group_variable_name']\n",
    "considered_years_list = config['variables']['considered_years_list']\n",
    "census_coord_var_name = config['variables']['census_coord_var_name']\n",
    "census_coord_value_to_keep = config['variables']['census_coord_value_to_keep']\n",
    "df_space_var_name = config['variables']['df_space_var_name']\n",
    "census_df_space_var_name = config['variables']['census_df_space_var_name']\n"
   ]
  },
  {
   "cell_type": "markdown",
   "id": "e851fe42",
   "metadata": {},
   "source": [
    "Filter columns"
   ]
  },
  {
   "cell_type": "code",
   "execution_count": 2,
   "id": "4f5e0a71-72af-4a6d-83b3-8679986c5ef3",
   "metadata": {},
   "outputs": [],
   "source": [
    "\n",
    "\n",
    "# load first df of variables to keep\n",
    "\n",
    "var_v1_to_keep_df = pd.read_csv(var_v1_to_keep_path)\n",
    "\n",
    "df = FilterColumns(df = pd.read_csv(core_df_path),\n",
    "                   var_df = var_v1_to_keep_df)\n"
   ]
  },
  {
   "cell_type": "markdown",
   "id": "2013dbb6",
   "metadata": {},
   "source": [
    "Filter rows: keep only years selected"
   ]
  },
  {
   "cell_type": "code",
   "execution_count": 3,
   "id": "29cdae5a",
   "metadata": {},
   "outputs": [],
   "source": [
    "df = FilterRowsContains(df = df,\n",
    "                        var_name = date_variable_name,\n",
    "                        accepted_var_values = considered_years_list)"
   ]
  },
  {
   "cell_type": "markdown",
   "id": "ab9d825a",
   "metadata": {},
   "source": [
    "Add MONTH variable"
   ]
  },
  {
   "cell_type": "code",
   "execution_count": 4,
   "id": "de21eaf9",
   "metadata": {},
   "outputs": [],
   "source": [
    "df = AddMONTH(df = df,\n",
    "    date_var_name= date_variable_name,\n",
    "    date_format = '%m/%d/%Y')"
   ]
  },
  {
   "cell_type": "markdown",
   "id": "2a7caa21",
   "metadata": {},
   "source": [
    "Add YEAR variable"
   ]
  },
  {
   "cell_type": "code",
   "execution_count": 5,
   "id": "48a7a36c",
   "metadata": {},
   "outputs": [],
   "source": [
    "df = AddYEAR(df = df,\n",
    "    date_var_name= date_variable_name,\n",
    "    date_format = '%m/%d/%Y')"
   ]
  },
  {
   "cell_type": "markdown",
   "id": "d627a147",
   "metadata": {},
   "source": [
    "Add NTA indicator variables"
   ]
  },
  {
   "cell_type": "code",
   "execution_count": 6,
   "id": "5273708b",
   "metadata": {},
   "outputs": [],
   "source": [
    "\n",
    "# Read the GeoJSON file into a GeoDataFrame\n",
    "gdf = gpd.read_file(coordinates_file_path)\n",
    "\n",
    "df = ConvertToGeodf(df,\n",
    "                    long = \"Longitude\",\n",
    "                    lat = \"Latitude\",\n",
    "                    crs = gdf.crs)\n",
    "# actually join the two by inclusion:\n",
    "# df coordinates which are in polygons defined by gdf data\n",
    "df = SJoinWithinGeo(geodf_units = df,\n",
    "                    geodf2_polygons = gdf)"
   ]
  },
  {
   "cell_type": "markdown",
   "id": "cb78d058",
   "metadata": {},
   "source": [
    "Second column filtering.\n",
    "Remove latitude and longitude coordinates variables.\n",
    "Remove complete date time variable.\n",
    "(WARNING: we're using a different columns to keep file: arrests_v2).\n",
    "Here we keep both Census tract variable (CTLabel) both NTA variable (NTA2020)."
   ]
  },
  {
   "cell_type": "code",
   "execution_count": 7,
   "id": "94ef20a5",
   "metadata": {},
   "outputs": [],
   "source": [
    "# load first df of variables to keep\n",
    "var_v2_to_keep_df = pd.read_csv(var_v2_to_keep_path)\n",
    "\n",
    "# filter columns\n",
    "df = FilterColumns(df = df, var_df = var_v2_to_keep_df)"
   ]
  },
  {
   "cell_type": "markdown",
   "id": "defcc97d",
   "metadata": {},
   "source": [
    "Look for missing and most likely values."
   ]
  },
  {
   "cell_type": "code",
   "execution_count": 8,
   "id": "ed671b3d",
   "metadata": {},
   "outputs": [
    {
     "name": "stdout",
     "output_type": "stream",
     "text": [
      "Unique values in column 'ARREST_DATE': ARREST_DATE\n",
      "2010-01-20    1773\n",
      "2012-03-07    1750\n",
      "2012-02-01    1726\n",
      "2010-05-20    1725\n",
      "2010-03-05    1700\n",
      "              ... \n",
      "2020-03-29     152\n",
      "2020-06-21     151\n",
      "2012-10-29     150\n",
      "2014-12-25     136\n",
      "2010-12-27      91\n",
      "Name: count, Length: 4018, dtype: int64\n",
      "Unique values in column 'KY_CD': KY_CD\n",
      "235.0    497406\n",
      "344.0    381255\n",
      "343.0    237115\n",
      "341.0    193962\n",
      "348.0    178706\n",
      "          ...  \n",
      "349.0        50\n",
      "455.0        25\n",
      "123.0         9\n",
      "577.0         5\n",
      "357.0         4\n",
      "Name: count, Length: 73, dtype: int64\n",
      "Unique values in column 'LAW_CAT_CD': LAW_CAT_CD\n",
      "M    2344897\n",
      "F     985323\n",
      "V     195291\n",
      "I      15573\n",
      "Name: count, dtype: int64\n",
      "Unique values in column 'AGE_GROUP': AGE_GROUP\n",
      "25-44    1665397\n",
      "18-24     917388\n",
      "45-64     679711\n",
      "<18       259459\n",
      "65+        33404\n",
      "Name: count, dtype: int64\n",
      "Unique values in column 'PERP_SEX': PERP_SEX\n",
      "M    2948940\n",
      "F     606419\n",
      "Name: count, dtype: int64\n",
      "Unique values in column 'PERP_RACE': PERP_RACE\n",
      "BLACK                             1719415\n",
      "WHITE HISPANIC                     908297\n",
      "WHITE                              430243\n",
      "BLACK HISPANIC                     296182\n",
      "ASIAN / PACIFIC ISLANDER           156867\n",
      "UNKNOWN                             36087\n",
      "AMERICAN INDIAN/ALASKAN NATIVE       8268\n",
      "Name: count, dtype: int64\n",
      "Unique values in column 'NTA2020': NTA2020\n",
      "MN1102    87305\n",
      "MN0501    64517\n",
      "MN0502    63717\n",
      "BK1602    62885\n",
      "BX0101    61541\n",
      "          ...  \n",
      "SI9593       34\n",
      "SI9561       25\n",
      "BK1061       23\n",
      "QN8492       22\n",
      "QN1371       22\n",
      "Name: count, Length: 252, dtype: int64\n",
      "Unique values in column 'MONTH': MONTH\n",
      "3     324945\n",
      "5     319354\n",
      "1     313095\n",
      "4     308805\n",
      "8     304306\n",
      "10    303275\n",
      "7     297826\n",
      "2     294917\n",
      "6     293093\n",
      "9     283398\n",
      "11    266926\n",
      "12    245419\n",
      "Name: count, dtype: int64\n"
     ]
    }
   ],
   "source": [
    "for column in df.columns:\n",
    "    print(f\"Unique values in column '{column}': { df[column].value_counts()}\")"
   ]
  },
  {
   "cell_type": "markdown",
   "id": "36a51fa0",
   "metadata": {},
   "source": []
  },
  {
   "cell_type": "markdown",
   "id": "8ec8b097",
   "metadata": {},
   "source": [
    "First we uniform missing values to UNKNOWN"
   ]
  },
  {
   "cell_type": "code",
   "execution_count": 9,
   "id": "8009c0fa",
   "metadata": {},
   "outputs": [],
   "source": [
    "df.replace(['(null)'], 'UNKNOWN', inplace=True)"
   ]
  },
  {
   "cell_type": "markdown",
   "id": "41a08988",
   "metadata": {},
   "source": [
    "Second we remove non understandable age group values"
   ]
  },
  {
   "cell_type": "code",
   "execution_count": 10,
   "id": "ecffe51e",
   "metadata": {},
   "outputs": [
    {
     "name": "stderr",
     "output_type": "stream",
     "text": [
      "C:\\Users\\User\\AppData\\Local\\Temp\\ipykernel_12856\\3774651995.py:1: FutureWarning: A value is trying to be set on a copy of a DataFrame or Series through chained assignment using an inplace method.\n",
      "The behavior will change in pandas 3.0. This inplace method will never work because the intermediate object on which we are setting values always behaves as a copy.\n",
      "\n",
      "For example, when doing 'df[col].method(value, inplace=True)', try using 'df.method({col: value}, inplace=True)' or df[col] = df[col].method(value) instead, to perform the operation inplace on the original object.\n",
      "\n",
      "\n",
      "  df[age_group_variable_name].replace([\"2020\", \"2019\", \"-977\", \"-962\", \"-71\", \"-12\", \"-942\", \"1020\", \"-965\", \"1925\", \"-928\",\n"
     ]
    }
   ],
   "source": [
    "df[age_group_variable_name].replace([\"2020\", \"2019\", \"-977\", \"-962\", \"-71\", \"-12\", \"-942\", \"1020\", \"-965\", \"1925\", \"-928\",\n",
    "            \"-948\", \"-967\", \"-4\", \"-958\", \"943\", \"-968\", \"949\", \"-973\", \"-2\", \"932\", \"-31\", \"-938\",\n",
    "            \"1016\", \"1014\", \"-60\", \"-1\", \"938\", \"950\", \"-963\"],\n",
    "           'UNKNOWN',\n",
    "           inplace=True)"
   ]
  },
  {
   "cell_type": "code",
   "execution_count": 11,
   "id": "cffe8834",
   "metadata": {},
   "outputs": [
    {
     "name": "stdout",
     "output_type": "stream",
     "text": [
      "Unique values in column 'ARREST_DATE': ARREST_DATE\n",
      "2010-01-20    1773\n",
      "2012-03-07    1750\n",
      "2012-02-01    1726\n",
      "2010-05-20    1725\n",
      "2010-03-05    1700\n",
      "              ... \n",
      "2020-03-29     152\n",
      "2020-06-21     151\n",
      "2012-10-29     150\n",
      "2014-12-25     136\n",
      "2010-12-27      91\n",
      "Name: count, Length: 4018, dtype: int64\n",
      "Unique values in column 'KY_CD': KY_CD\n",
      "235.0    497406\n",
      "344.0    381255\n",
      "343.0    237115\n",
      "341.0    193962\n",
      "348.0    178706\n",
      "          ...  \n",
      "349.0        50\n",
      "455.0        25\n",
      "123.0         9\n",
      "577.0         5\n",
      "357.0         4\n",
      "Name: count, Length: 73, dtype: int64\n",
      "Unique values in column 'LAW_CAT_CD': LAW_CAT_CD\n",
      "M    2344897\n",
      "F     985323\n",
      "V     195291\n",
      "I      15573\n",
      "Name: count, dtype: int64\n",
      "Unique values in column 'AGE_GROUP': AGE_GROUP\n",
      "25-44    1665397\n",
      "18-24     917388\n",
      "45-64     679711\n",
      "<18       259459\n",
      "65+        33404\n",
      "Name: count, dtype: int64\n",
      "Unique values in column 'PERP_SEX': PERP_SEX\n",
      "M    2948940\n",
      "F     606419\n",
      "Name: count, dtype: int64\n",
      "Unique values in column 'PERP_RACE': PERP_RACE\n",
      "BLACK                             1719415\n",
      "WHITE HISPANIC                     908297\n",
      "WHITE                              430243\n",
      "BLACK HISPANIC                     296182\n",
      "ASIAN / PACIFIC ISLANDER           156867\n",
      "UNKNOWN                             36087\n",
      "AMERICAN INDIAN/ALASKAN NATIVE       8268\n",
      "Name: count, dtype: int64\n",
      "Unique values in column 'NTA2020': NTA2020\n",
      "MN1102    87305\n",
      "MN0501    64517\n",
      "MN0502    63717\n",
      "BK1602    62885\n",
      "BX0101    61541\n",
      "          ...  \n",
      "SI9593       34\n",
      "SI9561       25\n",
      "BK1061       23\n",
      "QN8492       22\n",
      "QN1371       22\n",
      "Name: count, Length: 252, dtype: int64\n",
      "Unique values in column 'MONTH': MONTH\n",
      "3     324945\n",
      "5     319354\n",
      "1     313095\n",
      "4     308805\n",
      "8     304306\n",
      "10    303275\n",
      "7     297826\n",
      "2     294917\n",
      "6     293093\n",
      "9     283398\n",
      "11    266926\n",
      "12    245419\n",
      "Name: count, dtype: int64\n"
     ]
    }
   ],
   "source": [
    "for column in df.columns:\n",
    "    print(f\"Unique values in column '{column}': { df[column].value_counts()}\")"
   ]
  },
  {
   "cell_type": "markdown",
   "id": "c5df7265",
   "metadata": {},
   "source": [
    "Join with selected census dataset by space location"
   ]
  },
  {
   "cell_type": "code",
   "execution_count": 12,
   "id": "083dc776",
   "metadata": {},
   "outputs": [
    {
     "name": "stdout",
     "output_type": "stream",
     "text": [
      "0    BK1601\n",
      "1    BX0101\n",
      "2    MN1101\n",
      "3    MN1002\n",
      "4    BX1102\n",
      "Name: NTA2020, dtype: object\n",
      "0    BK0101\n",
      "1    BK0101\n",
      "2    BK0101\n",
      "3    BK0101\n",
      "4    BK0101\n",
      "Name: NTA2020, dtype: object\n"
     ]
    }
   ],
   "source": [
    "# read census data\n",
    "census_df = pd.read_csv(census_data_path, \n",
    "                        sep = \",\")\n",
    "\n",
    "# keep all\n",
    "# filter type of coordinates\n",
    "# census_df = FilterRowsContains(df = census_df,\n",
    "                               # var_name = census_coord_var_name,\n",
    "                               # accepted_var_values = census_coord_value_to_keep)\n",
    "\n",
    "# read census variables to keep\n",
    "# census_var_to_keep_df = pd.read_csv(census_var_to_keep_path,\n",
    "                                    # sep = \";\")\n",
    "\n",
    "# filter columns\n",
    "\n",
    "# census_df = FilterColumns(df = census_df,\n",
    "                          # var_df = census_var_to_keep_df)\n",
    "\n",
    "# Ensure key columns have the same data type \n",
    "df[df_space_var_name] = df[df_space_var_name].astype(str)\n",
    "census_df[census_df_space_var_name] = census_df[census_df_space_var_name].astype(str)\n",
    "\n",
    "# debug\n",
    "print(df[df_space_var_name].head())\n",
    "print(census_df[census_df_space_var_name].head())\n",
    "\n",
    "# join with df based on GeoID\n",
    "df = pd.merge(df, census_df,\n",
    "              left_on = df_space_var_name,\n",
    "              right_on = census_df_space_var_name,\n",
    "              how = \"inner\")"
   ]
  },
  {
   "cell_type": "code",
   "execution_count": 14,
   "id": "ea16330d",
   "metadata": {},
   "outputs": [
    {
     "name": "stdout",
     "output_type": "stream",
     "text": [
      "Index(['ARREST_DATE', 'KY_CD', 'LAW_CAT_CD', 'AGE_GROUP', 'PERP_SEX',\n",
      "       'PERP_RACE', 'NTA2020', 'MONTH', 'YEAR', 'Pop1', 'MaleP', 'MdAge',\n",
      "       'Hsp1P', 'WNHP', 'BNHP', 'ANHP', 'OthNHP', 'MIncome'],\n",
      "      dtype='object')\n"
     ]
    }
   ],
   "source": [
    "print(df.columns)"
   ]
  },
  {
   "cell_type": "markdown",
   "id": "d9b5288e",
   "metadata": {},
   "source": [
    "Save to csv a different file for each year, due to computational issues"
   ]
  },
  {
   "cell_type": "code",
   "execution_count": 15,
   "id": "8c5a6aea",
   "metadata": {},
   "outputs": [],
   "source": [
    "# save the entire dataset to one unique file\n",
    "# df.to_csv(output_df_path, index = False)\n",
    "\n",
    "years_list = [2010, 2011,2012, 2013,2014,2015,2016,2017,2018,2019,2020]\n",
    "\n",
    "for year in years_list:\n",
    "    df.loc[df[\"YEAR\"] == year].to_csv(f\"../../../final_datasets/arrests_{year}_nta.csv\" ,index = False)"
   ]
  }
 ],
 "metadata": {
  "kernelspec": {
   "display_name": "Python 3",
   "language": "python",
   "name": "python3"
  },
  "language_info": {
   "codemirror_mode": {
    "name": "ipython",
    "version": 3
   },
   "file_extension": ".py",
   "mimetype": "text/x-python",
   "name": "python",
   "nbconvert_exporter": "python",
   "pygments_lexer": "ipython3",
   "version": "3.12.0"
  }
 },
 "nbformat": 4,
 "nbformat_minor": 5
}
