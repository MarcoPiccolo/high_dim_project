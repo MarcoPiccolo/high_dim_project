{
 "cells": [
  {
   "cell_type": "markdown",
   "id": "f0ee3224-5897-4903-b465-21d9a77071bc",
   "metadata": {},
   "source": [
    "Preprocessing of the arrest dataset: copy the json file in this folder, change its parameters and execute this script to save the new dataset"
   ]
  },
  {
   "cell_type": "code",
   "execution_count": 9,
   "id": "ea44b028",
   "metadata": {},
   "outputs": [],
   "source": [
    "import pandas as pd\n",
    "import geopandas as gpd\n",
    "from shapely.geometry import Point # used to find the corresponding spatial zone\n",
    "import json\n",
    "import sys\n",
    "import os # to use functions defined in other scripts\n",
    "\n",
    "# add scripts dir to path\n",
    "# Add the relative path to the system path\n",
    "# Load configuration from JSON file \n",
    "with open('arrests_nta_2010_2020_pars.json', 'r') as f: \n",
    "    config = json.load(f) # Add directories to the system path \n",
    "    for folder in config['folders'].values():\n",
    "        abs_path = os.path.abspath(folder)\n",
    "        if abs_path not in sys.path:\n",
    "            sys.path.append(abs_path)\n",
    "\n",
    "\n",
    "import os\n",
    "import sys\n",
    "import json\n",
    "\n",
    "# Load configuration from JSON file\n",
    "with open('arrests_nta_2010_2020_pars.json', 'r') as f:\n",
    "    config = json.load(f)\n",
    "\n",
    "# Add directories to the system path\n",
    "for folder in config['folders'].values():\n",
    "    abs_path = os.path.abspath(folder)\n",
    "    if abs_path not in sys.path:\n",
    "        sys.path.append(abs_path)\n",
    "\n",
    "# Import the editing scripts\n",
    "from edit_funcs import *\n",
    "\n",
    "# Absolute paths of files\n",
    "core_df_path = os.path.join(os.path.abspath(config['folders']['core_folder_arrests']), config['files']['core_df_path'])\n",
    "var_v1_to_keep_path = os.path.join(os.path.abspath(config['folders']['var_to_keep_folder']), config['files']['var_v1_to_keep_path'])\n",
    "var_v2_to_keep_path = os.path.join(os.path.abspath(config['folders']['var_to_keep_folder']), config['files']['var_v2_to_keep_path'])\n",
    "coordinates_file_path = os.path.join(os.path.abspath(config['folders']['coordinates_maps_folder']), config['files']['coordinates_file_path'])\n",
    "output_df_path = os.path.join(os.path.abspath(config['folders']['final_datasets_folder']), config['files']['output_df_path'])\n",
    "census_data_path = os.path.join(os.path.abspath(config['folders']['census_folder']), config['files']['census_data_path'])\n",
    "census_var_to_keep_path = os.path.join(os.path.abspath(config['folders']['census_var_to_keep_folder']), config['files']['census_var_to_keep_path'])\n",
    "\n",
    "# Other useful variables\n",
    "date_variable_name = config['variables']['date_variable_name']\n",
    "age_group_variable_name = config['variables']['age_group_variable_name']\n",
    "considered_years_list = config['variables']['considered_years_list']\n",
    "census_coord_var_name = config['variables']['census_coord_var_name']\n",
    "census_coord_value_to_keep = config['variables']['census_coord_value_to_keep']\n",
    "df_space_var_name = config['variables']['df_space_var_name']\n",
    "census_df_space_var_name = config['variables']['census_df_space_var_name']\n"
   ]
  },
  {
   "cell_type": "markdown",
   "id": "e851fe42",
   "metadata": {},
   "source": [
    "Filter columns"
   ]
  },
  {
   "cell_type": "code",
   "execution_count": 10,
   "id": "4f5e0a71-72af-4a6d-83b3-8679986c5ef3",
   "metadata": {},
   "outputs": [],
   "source": [
    "\n",
    "\n",
    "# load first df of variables to keep\n",
    "\n",
    "var_v1_to_keep_df = pd.read_csv(var_v1_to_keep_path)\n",
    "\n",
    "df = FilterColumns(df = pd.read_csv(core_df_path),\n",
    "                   var_df = var_v1_to_keep_df)\n"
   ]
  },
  {
   "cell_type": "code",
   "execution_count": 11,
   "id": "c30c3f64",
   "metadata": {},
   "outputs": [
    {
     "name": "stdout",
     "output_type": "stream",
     "text": [
      "  ARREST_DATE  KY_CD LAW_CAT_CD AGE_GROUP PERP_SEX       PERP_RACE   Latitude  \\\n",
      "0  08/07/2018    NaN          F     45-64        M           BLACK  40.671110   \n",
      "1  11/13/2020  105.0          F     25-44        M           BLACK  40.810398   \n",
      "2  07/01/2019    NaN          F     25-44        M  BLACK HISPANIC  40.789348   \n",
      "3  02/22/2020  235.0          M     25-44        M           BLACK  40.829163   \n",
      "4  11/10/2020  344.0          M     25-44        M           WHITE  40.854826   \n",
      "\n",
      "   Longitude  \n",
      "0 -73.915881  \n",
      "1 -73.924895  \n",
      "2 -73.947352  \n",
      "3 -73.937272  \n",
      "4 -73.854880  \n"
     ]
    }
   ],
   "source": [
    "print(df.head())"
   ]
  },
  {
   "cell_type": "markdown",
   "id": "2013dbb6",
   "metadata": {},
   "source": [
    "Filter rows: keep only years selected"
   ]
  },
  {
   "cell_type": "code",
   "execution_count": 12,
   "id": "29cdae5a",
   "metadata": {},
   "outputs": [],
   "source": [
    "#df = FilterRowsContains(df = df,\n",
    "                        #var_name = date_variable_name,\n",
    "                        #accepted_var_values = considered_years_list)"
   ]
  },
  {
   "cell_type": "markdown",
   "id": "ab9d825a",
   "metadata": {},
   "source": [
    "Add MONTH variable"
   ]
  },
  {
   "cell_type": "code",
   "execution_count": 13,
   "id": "de21eaf9",
   "metadata": {},
   "outputs": [],
   "source": [
    "df = AddMONTH(df = df,\n",
    "    date_var_name= date_variable_name,\n",
    "    date_format = '%m/%d/%Y')"
   ]
  },
  {
   "cell_type": "code",
   "execution_count": 14,
   "id": "83d105e9",
   "metadata": {},
   "outputs": [
    {
     "name": "stdout",
     "output_type": "stream",
     "text": [
      "  ARREST_DATE  KY_CD LAW_CAT_CD AGE_GROUP PERP_SEX       PERP_RACE   Latitude  \\\n",
      "0  2018-08-07    NaN          F     45-64        M           BLACK  40.671110   \n",
      "1  2020-11-13  105.0          F     25-44        M           BLACK  40.810398   \n",
      "2  2019-07-01    NaN          F     25-44        M  BLACK HISPANIC  40.789348   \n",
      "3  2020-02-22  235.0          M     25-44        M           BLACK  40.829163   \n",
      "4  2020-11-10  344.0          M     25-44        M           WHITE  40.854826   \n",
      "\n",
      "   Longitude  MONTH  \n",
      "0 -73.915881      8  \n",
      "1 -73.924895     11  \n",
      "2 -73.947352      7  \n",
      "3 -73.937272      2  \n",
      "4 -73.854880     11  \n"
     ]
    }
   ],
   "source": [
    "print(df.head())"
   ]
  },
  {
   "cell_type": "markdown",
   "id": "2a7caa21",
   "metadata": {},
   "source": [
    "Add YEAR variable"
   ]
  },
  {
   "cell_type": "code",
   "execution_count": 15,
   "id": "48a7a36c",
   "metadata": {},
   "outputs": [],
   "source": [
    "df = AddYEAR(df = df,\n",
    "    date_var_name= date_variable_name,\n",
    "    date_format = '%m/%d/%Y')"
   ]
  },
  {
   "cell_type": "code",
   "execution_count": 16,
   "id": "b74654b8",
   "metadata": {},
   "outputs": [
    {
     "name": "stdout",
     "output_type": "stream",
     "text": [
      "  ARREST_DATE  KY_CD LAW_CAT_CD AGE_GROUP PERP_SEX       PERP_RACE   Latitude  \\\n",
      "0  2018-08-07    NaN          F     45-64        M           BLACK  40.671110   \n",
      "1  2020-11-13  105.0          F     25-44        M           BLACK  40.810398   \n",
      "2  2019-07-01    NaN          F     25-44        M  BLACK HISPANIC  40.789348   \n",
      "3  2020-02-22  235.0          M     25-44        M           BLACK  40.829163   \n",
      "4  2020-11-10  344.0          M     25-44        M           WHITE  40.854826   \n",
      "\n",
      "   Longitude  MONTH  YEAR  \n",
      "0 -73.915881      8  2018  \n",
      "1 -73.924895     11  2020  \n",
      "2 -73.947352      7  2019  \n",
      "3 -73.937272      2  2020  \n",
      "4 -73.854880     11  2020  \n"
     ]
    }
   ],
   "source": [
    "print(df.head())"
   ]
  },
  {
   "cell_type": "markdown",
   "id": "d627a147",
   "metadata": {},
   "source": [
    "Add NTA indicator variables"
   ]
  },
  {
   "cell_type": "code",
   "execution_count": 17,
   "id": "5273708b",
   "metadata": {},
   "outputs": [],
   "source": [
    "\n",
    "# Read the GeoJSON file into a GeoDataFrame\n",
    "gdf = gpd.read_file(coordinates_file_path)\n",
    "\n",
    "df = ConvertToGeodf(df,\n",
    "                    long = \"Longitude\",\n",
    "                    lat = \"Latitude\",\n",
    "                    crs = gdf.crs)\n",
    "# actually join the two by inclusion:\n",
    "# df coordinates which are in polygons defined by gdf data\n",
    "df = SJoinWithinGeo(geodf_units = df,\n",
    "                    geodf2_polygons = gdf)"
   ]
  },
  {
   "cell_type": "code",
   "execution_count": 18,
   "id": "debc5af7",
   "metadata": {},
   "outputs": [
    {
     "name": "stdout",
     "output_type": "stream",
     "text": [
      "  ARREST_DATE  KY_CD LAW_CAT_CD AGE_GROUP PERP_SEX       PERP_RACE   Latitude  \\\n",
      "0  2018-08-07    NaN          F     45-64        M           BLACK  40.671110   \n",
      "1  2020-11-13  105.0          F     25-44        M           BLACK  40.810398   \n",
      "2  2019-07-01    NaN          F     25-44        M  BLACK HISPANIC  40.789348   \n",
      "3  2020-02-22  235.0          M     25-44        M           BLACK  40.829163   \n",
      "4  2020-11-10  344.0          M     25-44        M           WHITE  40.854826   \n",
      "\n",
      "   Longitude  MONTH  YEAR  ...   BoroName  CountyFIPS  NTA2020  \\\n",
      "0 -73.915881      8  2018  ...   Brooklyn         047   BK1601   \n",
      "1 -73.924895     11  2020  ...      Bronx         005   BX0101   \n",
      "2 -73.947352      7  2019  ...  Manhattan         061   MN1101   \n",
      "3 -73.937272      2  2020  ...  Manhattan         061   MN1002   \n",
      "4 -73.854880     11  2020  ...      Bronx         005   BX1102   \n",
      "\n",
      "                  NTAName  NTAAbbrev NTAType CDTA2020  \\\n",
      "0              Ocean Hill      OcnHl       0     BK16   \n",
      "1  Mott Haven-Port Morris     MttHvn       0     BX01   \n",
      "2     East Harlem (South)  EstHrlm_S       0     MN11   \n",
      "3          Harlem (North)     Hrlm_N       0     MN10   \n",
      "4             Morris Park     MrrsPk       0     BX11   \n",
      "\n",
      "                                            CDTAName   Shape__Area  \\\n",
      "0  BK16 Ocean Hill-Brownsville (CD 16 Approximation)  2.009010e+07   \n",
      "1  BX01 Melrose-Mott Haven-Port Morris (CD 1 Appr...  4.097474e+07   \n",
      "2                MN11 East Harlem (CD 11 Equivalent)  1.665394e+07   \n",
      "3                     MN10 Harlem (CD 10 Equivalent)  2.379291e+07   \n",
      "4  BX11 Pelham Parkway-Morris Park (CD 11 Approxi...  2.783311e+07   \n",
      "\n",
      "  Shape__Length  \n",
      "0  22493.614057  \n",
      "1  29217.412065  \n",
      "2  23396.960257  \n",
      "3  26079.443821  \n",
      "4  24671.398417  \n",
      "\n",
      "[5 rows x 24 columns]\n"
     ]
    }
   ],
   "source": [
    "print(df.head())"
   ]
  },
  {
   "cell_type": "markdown",
   "id": "cb78d058",
   "metadata": {},
   "source": [
    "Second column filtering.\n",
    "Remove latitude and longitude coordinates variables.\n",
    "Remove complete date time variable.\n",
    "(WARNING: we're using a different columns to keep file: arrests_v2).\n",
    "Here we keep both Census tract variable (CTLabel) both NTA variable (NTA2020)."
   ]
  },
  {
   "cell_type": "code",
   "execution_count": 19,
   "id": "94ef20a5",
   "metadata": {},
   "outputs": [],
   "source": [
    "# load first df of variables to keep\n",
    "var_v2_to_keep_df = pd.read_csv(var_v2_to_keep_path)\n",
    "\n",
    "# filter columns\n",
    "df = FilterColumns(df = df, var_df = var_v2_to_keep_df)"
   ]
  },
  {
   "cell_type": "code",
   "execution_count": 20,
   "id": "d77acc0f",
   "metadata": {},
   "outputs": [
    {
     "name": "stdout",
     "output_type": "stream",
     "text": [
      "  ARREST_DATE  KY_CD LAW_CAT_CD AGE_GROUP PERP_SEX       PERP_RACE   Latitude  \\\n",
      "0  2018-08-07    NaN          F     45-64        M           BLACK  40.671110   \n",
      "1  2020-11-13  105.0          F     25-44        M           BLACK  40.810398   \n",
      "2  2019-07-01    NaN          F     25-44        M  BLACK HISPANIC  40.789348   \n",
      "3  2020-02-22  235.0          M     25-44        M           BLACK  40.829163   \n",
      "4  2020-11-10  344.0          M     25-44        M           WHITE  40.854826   \n",
      "\n",
      "   Longitude NTA2020  MONTH  YEAR  \n",
      "0 -73.915881  BK1601      8  2018  \n",
      "1 -73.924895  BX0101     11  2020  \n",
      "2 -73.947352  MN1101      7  2019  \n",
      "3 -73.937272  MN1002      2  2020  \n",
      "4 -73.854880  BX1102     11  2020  \n"
     ]
    }
   ],
   "source": [
    "print(df.head())"
   ]
  },
  {
   "cell_type": "markdown",
   "id": "defcc97d",
   "metadata": {},
   "source": [
    "Look for missing and most likely values."
   ]
  },
  {
   "cell_type": "code",
   "execution_count": 21,
   "id": "ed671b3d",
   "metadata": {},
   "outputs": [
    {
     "name": "stdout",
     "output_type": "stream",
     "text": [
      "Unique values in column 'ARREST_DATE': ARREST_DATE\n",
      "2010-01-20    1773\n",
      "2009-05-13    1772\n",
      "2012-03-07    1750\n",
      "2009-02-11    1738\n",
      "2012-02-01    1726\n",
      "              ... \n",
      "2012-10-29     150\n",
      "2021-02-01     139\n",
      "2006-12-25     138\n",
      "2014-12-25     136\n",
      "2010-12-27      91\n",
      "Name: count, Length: 6574, dtype: int64\n",
      "Unique values in column 'KY_CD': KY_CD\n",
      "235.0    819593\n",
      "344.0    606989\n",
      "343.0    320160\n",
      "117.0    305947\n",
      "341.0    279096\n",
      "          ...  \n",
      "357.0        12\n",
      "577.0        11\n",
      "123.0        10\n",
      "575.0         1\n",
      "362.0         1\n",
      "Name: count, Length: 76, dtype: int64\n",
      "Unique values in column 'LAW_CAT_CD': LAW_CAT_CD\n",
      "M         3719626\n",
      "F         1658694\n",
      "V          295559\n",
      "I           26974\n",
      "9            1067\n",
      "(null)          2\n",
      "Name: count, dtype: int64\n",
      "Unique values in column 'AGE_GROUP': AGE_GROUP\n",
      "25-44    2722384\n",
      "18-24    1448162\n",
      "45-64    1063911\n",
      "<18       438174\n",
      "65+        52696\n",
      "          ...   \n",
      "959            1\n",
      "910            1\n",
      "309            1\n",
      "446            1\n",
      "330            1\n",
      "Name: count, Length: 91, dtype: int64\n",
      "Unique values in column 'PERP_SEX': PERP_SEX\n",
      "M    4757940\n",
      "F     964078\n",
      "U       3504\n",
      "Name: count, dtype: int64\n",
      "Unique values in column 'PERP_RACE': PERP_RACE\n",
      "BLACK                             2782521\n",
      "WHITE HISPANIC                    1481968\n",
      "WHITE                              679072\n",
      "BLACK HISPANIC                     468700\n",
      "ASIAN / PACIFIC ISLANDER           243819\n",
      "UNKNOWN                             54986\n",
      "AMERICAN INDIAN/ALASKAN NATIVE      13093\n",
      "OTHER                                1363\n",
      "Name: count, dtype: int64\n",
      "Unique values in column 'Latitude': Latitude\n",
      "40.750431    19911\n",
      "40.671412    19850\n",
      "40.645023    17821\n",
      "40.837782    16955\n",
      "40.810398    16047\n",
      "             ...  \n",
      "40.543797        1\n",
      "40.669475        1\n",
      "40.651421        1\n",
      "40.526736        1\n",
      "40.672499        1\n",
      "Name: count, Length: 164894, dtype: int64\n",
      "Unique values in column 'Longitude': Longitude\n",
      "-73.989282    19911\n",
      "-73.881512    19850\n",
      "-74.077217    17821\n",
      "-73.919458    16955\n",
      "-73.870170    15060\n",
      "              ...  \n",
      "-73.987879        1\n",
      "-73.960859        1\n",
      "-74.224404        1\n",
      "-74.034700        1\n",
      "-73.796757        1\n",
      "Name: count, Length: 166232, dtype: int64\n",
      "Unique values in column 'NTA2020': NTA2020\n",
      "MN1102    136911\n",
      "MN0501    102438\n",
      "BX0101     99267\n",
      "BK1602     98339\n",
      "MN0502     98320\n",
      "           ...  \n",
      "QN8492        30\n",
      "BK1061        30\n",
      "QN1371        25\n",
      "BK5693         3\n",
      "BK1391         2\n",
      "Name: count, Length: 254, dtype: int64\n",
      "Unique values in column 'MONTH': MONTH\n",
      "3     519563\n",
      "5     507795\n",
      "1     501211\n",
      "10    494833\n",
      "8     489909\n",
      "4     487271\n",
      "7     476770\n",
      "6     473127\n",
      "2     466600\n",
      "9     462071\n",
      "11    441222\n",
      "12    405150\n",
      "Name: count, dtype: int64\n",
      "Unique values in column 'YEAR': YEAR\n",
      "2010    422322\n",
      "2009    421316\n",
      "2011    412859\n",
      "2007    403231\n",
      "2008    401529\n",
      "2012    396280\n",
      "2013    393809\n",
      "2014    387727\n",
      "2006    371934\n",
      "2015    339470\n",
      "2016    314864\n",
      "2017    286225\n",
      "2018    246773\n",
      "2023    226872\n",
      "2019    214617\n",
      "2022    189774\n",
      "2021    155507\n",
      "2020    140413\n",
      "Name: count, dtype: int64\n"
     ]
    }
   ],
   "source": [
    "for column in df.columns:\n",
    "    print(f\"Unique values in column '{column}': { df[column].value_counts()}\")"
   ]
  },
  {
   "cell_type": "markdown",
   "id": "36a51fa0",
   "metadata": {},
   "source": []
  },
  {
   "cell_type": "markdown",
   "id": "8ec8b097",
   "metadata": {},
   "source": [
    "First we uniform missing values to UNKNOWN"
   ]
  },
  {
   "cell_type": "code",
   "execution_count": 22,
   "id": "8009c0fa",
   "metadata": {},
   "outputs": [],
   "source": [
    "df.replace(['(null)'], 'UNKNOWN', inplace=True)"
   ]
  },
  {
   "cell_type": "markdown",
   "id": "41a08988",
   "metadata": {},
   "source": [
    "Second we remove non understandable age group values"
   ]
  },
  {
   "cell_type": "code",
   "execution_count": 23,
   "id": "ecffe51e",
   "metadata": {},
   "outputs": [
    {
     "name": "stderr",
     "output_type": "stream",
     "text": [
      "C:\\Users\\User\\AppData\\Local\\Temp\\ipykernel_1976\\3774651995.py:1: FutureWarning: A value is trying to be set on a copy of a DataFrame or Series through chained assignment using an inplace method.\n",
      "The behavior will change in pandas 3.0. This inplace method will never work because the intermediate object on which we are setting values always behaves as a copy.\n",
      "\n",
      "For example, when doing 'df[col].method(value, inplace=True)', try using 'df.method({col: value}, inplace=True)' or df[col] = df[col].method(value) instead, to perform the operation inplace on the original object.\n",
      "\n",
      "\n",
      "  df[age_group_variable_name].replace([\"2020\", \"2019\", \"-977\", \"-962\", \"-71\", \"-12\", \"-942\", \"1020\", \"-965\", \"1925\", \"-928\",\n"
     ]
    }
   ],
   "source": [
    "df[age_group_variable_name].replace([\"2020\", \"2019\", \"-977\", \"-962\", \"-71\", \"-12\", \"-942\", \"1020\", \"-965\", \"1925\", \"-928\",\n",
    "            \"-948\", \"-967\", \"-4\", \"-958\", \"943\", \"-968\", \"949\", \"-973\", \"-2\", \"932\", \"-31\", \"-938\",\n",
    "            \"1016\", \"1014\", \"-60\", \"-1\", \"938\", \"950\", \"-963\"],\n",
    "           'UNKNOWN',\n",
    "           inplace=True)"
   ]
  },
  {
   "cell_type": "code",
   "execution_count": 24,
   "id": "cffe8834",
   "metadata": {},
   "outputs": [
    {
     "name": "stdout",
     "output_type": "stream",
     "text": [
      "Unique values in column 'ARREST_DATE': ARREST_DATE\n",
      "2010-01-20    1773\n",
      "2009-05-13    1772\n",
      "2012-03-07    1750\n",
      "2009-02-11    1738\n",
      "2012-02-01    1726\n",
      "              ... \n",
      "2012-10-29     150\n",
      "2021-02-01     139\n",
      "2006-12-25     138\n",
      "2014-12-25     136\n",
      "2010-12-27      91\n",
      "Name: count, Length: 6574, dtype: int64\n",
      "Unique values in column 'KY_CD': KY_CD\n",
      "235.0    819593\n",
      "344.0    606989\n",
      "343.0    320160\n",
      "117.0    305947\n",
      "341.0    279096\n",
      "          ...  \n",
      "357.0        12\n",
      "577.0        11\n",
      "123.0        10\n",
      "575.0         1\n",
      "362.0         1\n",
      "Name: count, Length: 76, dtype: int64\n",
      "Unique values in column 'LAW_CAT_CD': LAW_CAT_CD\n",
      "M          3719626\n",
      "F          1658694\n",
      "V           295559\n",
      "I            26974\n",
      "9             1067\n",
      "UNKNOWN          2\n",
      "Name: count, dtype: int64\n",
      "Unique values in column 'AGE_GROUP': AGE_GROUP\n",
      "25-44    2722384\n",
      "18-24    1448162\n",
      "45-64    1063911\n",
      "<18       438174\n",
      "65+        52696\n",
      "          ...   \n",
      "959            1\n",
      "910            1\n",
      "309            1\n",
      "446            1\n",
      "330            1\n",
      "Name: count, Length: 87, dtype: int64\n",
      "Unique values in column 'PERP_SEX': PERP_SEX\n",
      "M    4757940\n",
      "F     964078\n",
      "U       3504\n",
      "Name: count, dtype: int64\n",
      "Unique values in column 'PERP_RACE': PERP_RACE\n",
      "BLACK                             2782521\n",
      "WHITE HISPANIC                    1481968\n",
      "WHITE                              679072\n",
      "BLACK HISPANIC                     468700\n",
      "ASIAN / PACIFIC ISLANDER           243819\n",
      "UNKNOWN                             54986\n",
      "AMERICAN INDIAN/ALASKAN NATIVE      13093\n",
      "OTHER                                1363\n",
      "Name: count, dtype: int64\n",
      "Unique values in column 'Latitude': Latitude\n",
      "40.750431    19911\n",
      "40.671412    19850\n",
      "40.645023    17821\n",
      "40.837782    16955\n",
      "40.810398    16047\n",
      "             ...  \n",
      "40.543797        1\n",
      "40.669475        1\n",
      "40.651421        1\n",
      "40.526736        1\n",
      "40.672499        1\n",
      "Name: count, Length: 164894, dtype: int64\n",
      "Unique values in column 'Longitude': Longitude\n",
      "-73.989282    19911\n",
      "-73.881512    19850\n",
      "-74.077217    17821\n",
      "-73.919458    16955\n",
      "-73.870170    15060\n",
      "              ...  \n",
      "-73.987879        1\n",
      "-73.960859        1\n",
      "-74.224404        1\n",
      "-74.034700        1\n",
      "-73.796757        1\n",
      "Name: count, Length: 166232, dtype: int64\n",
      "Unique values in column 'NTA2020': NTA2020\n",
      "MN1102    136911\n",
      "MN0501    102438\n",
      "BX0101     99267\n",
      "BK1602     98339\n",
      "MN0502     98320\n",
      "           ...  \n",
      "QN8492        30\n",
      "BK1061        30\n",
      "QN1371        25\n",
      "BK5693         3\n",
      "BK1391         2\n",
      "Name: count, Length: 254, dtype: int64\n",
      "Unique values in column 'MONTH': MONTH\n",
      "3     519563\n",
      "5     507795\n",
      "1     501211\n",
      "10    494833\n",
      "8     489909\n",
      "4     487271\n",
      "7     476770\n",
      "6     473127\n",
      "2     466600\n",
      "9     462071\n",
      "11    441222\n",
      "12    405150\n",
      "Name: count, dtype: int64\n",
      "Unique values in column 'YEAR': YEAR\n",
      "2010    422322\n",
      "2009    421316\n",
      "2011    412859\n",
      "2007    403231\n",
      "2008    401529\n",
      "2012    396280\n",
      "2013    393809\n",
      "2014    387727\n",
      "2006    371934\n",
      "2015    339470\n",
      "2016    314864\n",
      "2017    286225\n",
      "2018    246773\n",
      "2023    226872\n",
      "2019    214617\n",
      "2022    189774\n",
      "2021    155507\n",
      "2020    140413\n",
      "Name: count, dtype: int64\n"
     ]
    }
   ],
   "source": [
    "for column in df.columns:\n",
    "    print(f\"Unique values in column '{column}': { df[column].value_counts()}\")"
   ]
  },
  {
   "cell_type": "markdown",
   "id": "c5df7265",
   "metadata": {},
   "source": [
    "Join with selected census dataset by space location"
   ]
  },
  {
   "cell_type": "code",
   "execution_count": 25,
   "id": "083dc776",
   "metadata": {},
   "outputs": [
    {
     "name": "stdout",
     "output_type": "stream",
     "text": [
      "0    BK1601\n",
      "1    BX0101\n",
      "2    MN1101\n",
      "3    MN1002\n",
      "4    BX1102\n",
      "Name: NTA2020, dtype: object\n",
      "0    BK0101\n",
      "1    BK0101\n",
      "2    BK0101\n",
      "3    BK0101\n",
      "4    BK0101\n",
      "Name: NTA2020, dtype: object\n"
     ]
    }
   ],
   "source": [
    "# read census data\n",
    "census_df = pd.read_csv(census_data_path, \n",
    "                        sep = \",\")\n",
    "\n",
    "# keep all\n",
    "# filter type of coordinates\n",
    "# census_df = FilterRowsContains(df = census_df,\n",
    "                               # var_name = census_coord_var_name,\n",
    "                               # accepted_var_values = census_coord_value_to_keep)\n",
    "\n",
    "# read census variables to keep\n",
    "# census_var_to_keep_df = pd.read_csv(census_var_to_keep_path,\n",
    "                                    # sep = \";\")\n",
    "\n",
    "# filter columns\n",
    "\n",
    "# census_df = FilterColumns(df = census_df,\n",
    "                          # var_df = census_var_to_keep_df)\n",
    "\n",
    "# Ensure key columns have the same data type \n",
    "# df[df_space_var_name] = df[df_space_var_name].astype(str)\n",
    "# census_df[census_df_space_var_name] = census_df[census_df_space_var_name].astype(str)\n",
    "\n",
    "# debug\n",
    "print(df[df_space_var_name].head())\n",
    "print(census_df[census_df_space_var_name].head())\n",
    "\n",
    "# join with df based on GeoID\n",
    "df = pd.merge(df, census_df,\n",
    "              on = [\"YEAR\", \"NTA2020\"],\n",
    "              how = \"inner\")"
   ]
  },
  {
   "cell_type": "code",
   "execution_count": 26,
   "id": "ea16330d",
   "metadata": {},
   "outputs": [
    {
     "name": "stdout",
     "output_type": "stream",
     "text": [
      "Index(['ARREST_DATE', 'KY_CD', 'LAW_CAT_CD', 'AGE_GROUP', 'PERP_SEX',\n",
      "       'PERP_RACE', 'Latitude', 'Longitude', 'NTA2020', 'MONTH', 'YEAR',\n",
      "       'Pop1', 'MaleP', 'MdAge', 'Hsp1P', 'WNHP', 'BNHP', 'ANHP', 'OthNHP',\n",
      "       'MIncome'],\n",
      "      dtype='object')\n"
     ]
    }
   ],
   "source": [
    "print(df.columns)"
   ]
  },
  {
   "cell_type": "code",
   "execution_count": 27,
   "id": "454e1de0",
   "metadata": {},
   "outputs": [
    {
     "name": "stdout",
     "output_type": "stream",
     "text": [
      "  ARREST_DATE  KY_CD LAW_CAT_CD AGE_GROUP PERP_SEX       PERP_RACE   Latitude  \\\n",
      "0  2018-08-07    NaN          F     45-64        M           BLACK  40.671110   \n",
      "1  2020-11-13  105.0          F     25-44        M           BLACK  40.810398   \n",
      "2  2019-07-01    NaN          F     25-44        M  BLACK HISPANIC  40.789348   \n",
      "3  2020-02-22  235.0          M     25-44        M           BLACK  40.829163   \n",
      "4  2020-11-10  344.0          M     25-44        M           WHITE  40.854826   \n",
      "\n",
      "   Longitude NTA2020  MONTH  YEAR   Pop1  MaleP  MdAge  Hsp1P   WNHP   BNHP  \\\n",
      "0 -73.915881  BK1601      8  2018  36749  45.84   33.7  19.82   5.72  67.30   \n",
      "1 -73.924895  BX0101     11  2020  57718  46.19   32.6  67.31   2.72  26.78   \n",
      "2 -73.947352  MN1101      7  2019  59623  44.63   35.9  43.36  19.74  22.26   \n",
      "3 -73.937272  MN1002      2  2020  83327  45.45   36.4  25.21  10.39  56.75   \n",
      "4 -73.854880  BX1102     11  2020  25077  48.30   37.6  33.15  42.47   6.68   \n",
      "\n",
      "    ANHP  OthNHP   MIncome  \n",
      "0   1.72    5.44  43378.33  \n",
      "1   0.82    2.37  25656.93  \n",
      "2  10.91    3.73  43501.29  \n",
      "3   2.81    4.84  54072.00  \n",
      "4  14.12    3.58  66378.03  \n"
     ]
    }
   ],
   "source": [
    "print(df.head())"
   ]
  },
  {
   "cell_type": "markdown",
   "id": "d9b5288e",
   "metadata": {},
   "source": [
    "Save to csv a different file for each year, due to computational issues"
   ]
  },
  {
   "cell_type": "code",
   "execution_count": 28,
   "id": "8c5a6aea",
   "metadata": {},
   "outputs": [],
   "source": [
    "# save the entire dataset to one unique file\n",
    "\n",
    "\n",
    "years_list = [2010, 2011,2012, 2013,2014,2015,2016,2017,2018,2019,2020]\n",
    "\n",
    "for year in years_list:\n",
    "    df.loc[df[\"YEAR\"] == year].to_csv(f\"../../../final_datasets/arrests_{year}_nta.csv\" ,index = False)"
   ]
  },
  {
   "cell_type": "code",
   "execution_count": 29,
   "id": "3234bf7b",
   "metadata": {},
   "outputs": [],
   "source": [
    "df.to_csv(output_df_path, index = False)"
   ]
  }
 ],
 "metadata": {
  "kernelspec": {
   "display_name": "Python 3",
   "language": "python",
   "name": "python3"
  },
  "language_info": {
   "codemirror_mode": {
    "name": "ipython",
    "version": 3
   },
   "file_extension": ".py",
   "mimetype": "text/x-python",
   "name": "python",
   "nbconvert_exporter": "python",
   "pygments_lexer": "ipython3",
   "version": "3.12.0"
  }
 },
 "nbformat": 4,
 "nbformat_minor": 5
}
