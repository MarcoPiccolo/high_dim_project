{
 "cells": [
  {
   "cell_type": "markdown",
   "id": "f0ee3224-5897-4903-b465-21d9a77071bc",
   "metadata": {},
   "source": [
    "Preprocessing of the complaints 2020 NTA dataset"
   ]
  },
  {
   "cell_type": "code",
   "execution_count": 19,
   "id": "ea44b028",
   "metadata": {},
   "outputs": [],
   "source": [
    "import pandas as pd\n",
    "import geopandas as gpd\n",
    "from shapely.geometry import Point # used to find the corresponding spatial zone\n",
    "import sys\n",
    "import os # to use functions defined in other scripts\n",
    "\n",
    "# add scripts dir to path\n",
    "# Add the relative path to the system path\n",
    "edit_df_folder = os.path.abspath('../edit_df')\n",
    "if edit_df_folder not in sys.path:\n",
    "    sys.path.append(edit_df_folder)\n",
    "\n",
    "# Import the editing scripts\n",
    "import filter_rows\n",
    "import filter_columns\n",
    "import add_spatial_zone\n",
    "import add_month\n",
    "\n",
    "# add data subdirectories to path\n",
    "core_folder =  os.path.abspath('../core_datasets')\n",
    "if core_folder not in sys.path:\n",
    "    sys.path.append(core_folder)\n",
    "    \n",
    "core_folder_complaints =  os.path.abspath('../core_datasets/complaints')\n",
    "if core_folder_complaints not in sys.path:\n",
    "    sys.path.append(core_folder_complaints)\n",
    "    \n",
    "scenarios_folder =  os.path.abspath('../scenarios')\n",
    "if scenarios_folder not in sys.path:\n",
    "    sys.path.append(scenarios_folder)\n",
    "    \n",
    "coordinates_maps_folder =  os.path.abspath('../coordinates_maps')\n",
    "if coordinates_maps_folder not in sys.path:\n",
    "    sys.path.append(coordinates_maps_folder)"
   ]
  },
  {
   "cell_type": "markdown",
   "id": "e851fe42",
   "metadata": {},
   "source": [
    "Filter columns"
   ]
  },
  {
   "cell_type": "code",
   "execution_count": 20,
   "id": "4f5e0a71-72af-4a6d-83b3-8679986c5ef3",
   "metadata": {},
   "outputs": [
    {
     "name": "stderr",
     "output_type": "stream",
     "text": [
      "C:\\Users\\User\\AppData\\Local\\Temp\\ipykernel_23020\\3668619359.py:8: DtypeWarning: Columns (0) have mixed types. Specify dtype option on import or set low_memory=False.\n",
      "  df = filter_columns.FilterColumns(df = pd.read_csv(core_df_path), var_df = var_v1_to_keep_df)\n"
     ]
    }
   ],
   "source": [
    "core_df_path = os.path.join(core_folder_complaints,\n",
    "                                   \"NYPD_Complaint_Data_Historic_20241202.csv\")\n",
    "\n",
    "# load first df of variables to keep\n",
    "var_v1_to_keep_df = pd.read_csv(\"complaints_var_to_keep.csv\")\n",
    "\n",
    "# filter columns\n",
    "df = filter_columns.FilterColumns(df = pd.read_csv(core_df_path), var_df = var_v1_to_keep_df)\n"
   ]
  },
  {
   "cell_type": "markdown",
   "id": "2013dbb6",
   "metadata": {},
   "source": [
    "Filter rows: keep only year 2020"
   ]
  },
  {
   "cell_type": "code",
   "execution_count": 21,
   "id": "29cdae5a",
   "metadata": {},
   "outputs": [],
   "source": [
    "df = filter_rows.FilterRowsContains(df = df,\n",
    "                                    var_name = \"RPT_DT\",\n",
    "                                    accepted_var_values = [\"2020\"])"
   ]
  },
  {
   "cell_type": "markdown",
   "id": "ab9d825a",
   "metadata": {},
   "source": [
    "Add MONTH variable"
   ]
  },
  {
   "cell_type": "code",
   "execution_count": 22,
   "id": "de21eaf9",
   "metadata": {},
   "outputs": [],
   "source": [
    "df = add_month.AddMONTH(df = df,\n",
    "                        date_var_name= \"RPT_DT\",\n",
    "                        date_format = '%m/%d/%Y')"
   ]
  },
  {
   "cell_type": "markdown",
   "id": "d627a147",
   "metadata": {},
   "source": [
    "Add NTA indicator variables"
   ]
  },
  {
   "cell_type": "code",
   "execution_count": 23,
   "id": "5273708b",
   "metadata": {},
   "outputs": [],
   "source": [
    "\n",
    "# Read the GeoJSON file into a GeoDataFrame\n",
    "gdf = gpd.read_file(os.path.join(coordinates_maps_folder, \"nta.geojson\"))\n",
    "\n",
    "df = add_spatial_zone.ConvertToGeodf(df,\n",
    "                                     long = \"Longitude\",\n",
    "                                     lat = \"Latitude\",\n",
    "                                     crs = gdf.crs)\n",
    "# actually join the two: by inclusion: df coordinates which are in polygons defined by gdf data\n",
    "df = add_spatial_zone.SJoinWithinGeo(geodf_units = df,\n",
    "                                     geodf2_polygons = gdf)"
   ]
  },
  {
   "cell_type": "markdown",
   "id": "cb78d058",
   "metadata": {},
   "source": [
    "Second column filtering.\n",
    "Remove latitude and longitude coordinates variables.\n",
    "Remove complete date time variable.\n",
    "(WARNING: we're using a different columns to keep file: complaints_v2)"
   ]
  },
  {
   "cell_type": "code",
   "execution_count": 24,
   "id": "94ef20a5",
   "metadata": {},
   "outputs": [],
   "source": [
    "# load first df of variables to keep\n",
    "var_v2_to_keep_df = pd.read_csv(\"complaints_v2_var_to_keep.csv\")\n",
    "\n",
    "# filter columns\n",
    "df = filter_columns.FilterColumns(df = df, var_df = var_v2_to_keep_df)"
   ]
  },
  {
   "cell_type": "markdown",
   "id": "defcc97d",
   "metadata": {},
   "source": [
    "Look for missing and most likely values."
   ]
  },
  {
   "cell_type": "code",
   "execution_count": 33,
   "id": "ed671b3d",
   "metadata": {},
   "outputs": [
    {
     "name": "stdout",
     "output_type": "stream",
     "text": [
      "Unique values in column 'CRM_ATPT_CPTD_CD': CRM_ATPT_CPTD_CD\n",
      "COMPLETED    407023\n",
      "ATTEMPTED      6616\n",
      "Name: count, dtype: int64\n",
      "Unique values in column 'JURISDICTION_CODE': JURISDICTION_CODE\n",
      "0     372249\n",
      "2      30684\n",
      "1       7224\n",
      "97      1551\n",
      "3       1041\n",
      "88       252\n",
      "72       214\n",
      "14       150\n",
      "4         87\n",
      "11        79\n",
      "15        26\n",
      "87        21\n",
      "13        18\n",
      "12        15\n",
      "9         13\n",
      "6          6\n",
      "85         5\n",
      "7          4\n",
      "Name: count, dtype: int64\n",
      "Unique values in column 'KY_CD': KY_CD\n",
      "341    82008\n",
      "578    66799\n",
      "344    43381\n",
      "109    35738\n",
      "351    35649\n",
      "       ...  \n",
      "102        2\n",
      "234        2\n",
      "357        1\n",
      "676        1\n",
      "571        1\n",
      "Name: count, Length: 64, dtype: int64\n",
      "Unique values in column 'LAW_CAT_CD': LAW_CAT_CD\n",
      "MISDEMEANOR    210678\n",
      "FELONY         135643\n",
      "VIOLATION       67318\n",
      "Name: count, dtype: int64\n",
      "Unique values in column 'LOC_OF_OCCUR_DESC': LOC_OF_OCCUR_DESC\n",
      "INSIDE         217057\n",
      "FRONT OF       111733\n",
      "UNKNOWN         66113\n",
      "OPPOSITE OF     10031\n",
      "REAR OF          8382\n",
      "OUTSIDE           323\n",
      "Name: count, dtype: int64\n",
      "Unique values in column 'PREM_TYP_DESC': PREM_TYP_DESC\n",
      "STREET                        123196\n",
      "RESIDENCE - APT. HOUSE         99075\n",
      "RESIDENCE-HOUSE                44432\n",
      "RESIDENCE - PUBLIC HOUSING     30638\n",
      "CHAIN STORE                    14708\n",
      "                               ...  \n",
      "LOAN COMPANY                      15\n",
      "COMMERCIAL BLDG                    4\n",
      "SOCIAL CLUB/POLICY LOCATI          3\n",
      "TRAMWAY                            3\n",
      "JEWELRY STORE                      1\n",
      "Name: count, Length: 84, dtype: int64\n",
      "Unique values in column 'SUSP_AGE_GROUP': SUSP_AGE_GROUP\n",
      "UNKNOWN    239559\n",
      "25-44      100553\n",
      "45-64       34023\n",
      "18-24       29546\n",
      "<18          6631\n",
      "65+          3327\n",
      "Name: count, dtype: int64\n",
      "Unique values in column 'SUSP_RACE': SUSP_RACE\n",
      "UNKNOWN                           191033\n",
      "BLACK                             115328\n",
      "WHITE HISPANIC                     50643\n",
      "WHITE                              29170\n",
      "BLACK HISPANIC                     15976\n",
      "ASIAN / PACIFIC ISLANDER           10871\n",
      "AMERICAN INDIAN/ALASKAN NATIVE       618\n",
      "Name: count, dtype: int64\n",
      "Unique values in column 'SUSP_SEX': SUSP_SEX\n",
      "M          186398\n",
      "UNKNOWN     94886\n",
      "U           82909\n",
      "F           49446\n",
      "Name: count, dtype: int64\n",
      "Unique values in column 'VIC_AGE_GROUP': VIC_AGE_GROUP\n",
      "25-44      159939\n",
      "UNKNOWN    100175\n",
      "45-64       84728\n",
      "18-24       37563\n",
      "65+         19012\n",
      "<18         12222\n",
      "Name: count, dtype: int64\n",
      "Unique values in column 'VIC_RACE': VIC_RACE\n",
      "UNKNOWN                           109808\n",
      "BLACK                             109797\n",
      "WHITE HISPANIC                     76259\n",
      "WHITE                              66112\n",
      "ASIAN / PACIFIC ISLANDER           32344\n",
      "BLACK HISPANIC                     17991\n",
      "AMERICAN INDIAN/ALASKAN NATIVE      1328\n",
      "Name: count, dtype: int64\n",
      "Unique values in column 'VIC_SEX': VIC_SEX\n",
      "F          164612\n",
      "M          152312\n",
      "D           63173\n",
      "E           33541\n",
      "UNKNOWN         1\n",
      "Name: count, dtype: int64\n",
      "Unique values in column 'MONTH': MONTH\n",
      "1     39155\n",
      "10    37856\n",
      "8     37828\n",
      "9     36428\n",
      "2     36425\n",
      "7     35788\n",
      "11    34843\n",
      "12    33850\n",
      "3     32717\n",
      "6     32616\n",
      "5     31925\n",
      "4     24208\n",
      "Name: count, dtype: int64\n",
      "Unique values in column 'NTA2020': NTA2020\n",
      "MN1102    6995\n",
      "BK0302    6430\n",
      "BX0101    6377\n",
      "BK0301    5640\n",
      "MN0502    5603\n",
      "          ... \n",
      "QN0151       4\n",
      "BK1892       3\n",
      "SI9561       1\n",
      "QN0761       1\n",
      "QN8491       1\n",
      "Name: count, Length: 251, dtype: int64\n"
     ]
    }
   ],
   "source": [
    "for column in df.columns:\n",
    "    print(f\"Unique values in column '{column}': { df[column].value_counts()}\")"
   ]
  },
  {
   "cell_type": "markdown",
   "id": "36a51fa0",
   "metadata": {},
   "source": []
  },
  {
   "cell_type": "markdown",
   "id": "8ec8b097",
   "metadata": {},
   "source": [
    "First we uniform missing values to UNKNOWN"
   ]
  },
  {
   "cell_type": "code",
   "execution_count": 26,
   "id": "8009c0fa",
   "metadata": {},
   "outputs": [],
   "source": [
    "df.replace(['(null)'], 'UNKNOWN', inplace=True)"
   ]
  },
  {
   "cell_type": "markdown",
   "id": "41a08988",
   "metadata": {},
   "source": [
    "Second we remove non understandale age group values"
   ]
  },
  {
   "cell_type": "code",
   "execution_count": 32,
   "id": "ecffe51e",
   "metadata": {},
   "outputs": [],
   "source": [
    "df.replace([\"2020\", \"2019\", \"-977\", \"-962\", \"-71\", \"-12\", \"-942\", \"1020\", \"-965\", \"1925\", \"-928\",\n",
    "            \"-948\", \"-967\", \"-4\", \"-958\", \"943\", \"-968\", \"949\", \"-973\", \"-2\", \"932\", \"-31\", \"-938\",\n",
    "            \"1016\", \"1014\", \"-60\", \"-1\", \"938\", \"950\", \"-963\"],\n",
    "           'UNKNOWN',\n",
    "           inplace=True)"
   ]
  },
  {
   "cell_type": "code",
   "execution_count": 31,
   "id": "cffe8834",
   "metadata": {},
   "outputs": [
    {
     "name": "stdout",
     "output_type": "stream",
     "text": [
      "Unique values in column 'CRM_ATPT_CPTD_CD': CRM_ATPT_CPTD_CD\n",
      "COMPLETED    407023\n",
      "ATTEMPTED      6616\n",
      "Name: count, dtype: int64\n",
      "Unique values in column 'JURISDICTION_CODE': JURISDICTION_CODE\n",
      "0     372249\n",
      "2      30684\n",
      "1       7224\n",
      "97      1551\n",
      "3       1041\n",
      "88       252\n",
      "72       214\n",
      "14       150\n",
      "4         87\n",
      "11        79\n",
      "15        26\n",
      "87        21\n",
      "13        18\n",
      "12        15\n",
      "9         13\n",
      "6          6\n",
      "85         5\n",
      "7          4\n",
      "Name: count, dtype: int64\n",
      "Unique values in column 'KY_CD': KY_CD\n",
      "341    82008\n",
      "578    66799\n",
      "344    43381\n",
      "109    35738\n",
      "351    35649\n",
      "       ...  \n",
      "102        2\n",
      "234        2\n",
      "357        1\n",
      "676        1\n",
      "571        1\n",
      "Name: count, Length: 64, dtype: int64\n",
      "Unique values in column 'LAW_CAT_CD': LAW_CAT_CD\n",
      "MISDEMEANOR    210678\n",
      "FELONY         135643\n",
      "VIOLATION       67318\n",
      "Name: count, dtype: int64\n",
      "Unique values in column 'LOC_OF_OCCUR_DESC': LOC_OF_OCCUR_DESC\n",
      "INSIDE         217057\n",
      "FRONT OF       111733\n",
      "UNKNOWN         66113\n",
      "OPPOSITE OF     10031\n",
      "REAR OF          8382\n",
      "OUTSIDE           323\n",
      "Name: count, dtype: int64\n",
      "Unique values in column 'PREM_TYP_DESC': PREM_TYP_DESC\n",
      "STREET                        123196\n",
      "RESIDENCE - APT. HOUSE         99075\n",
      "RESIDENCE-HOUSE                44432\n",
      "RESIDENCE - PUBLIC HOUSING     30638\n",
      "CHAIN STORE                    14708\n",
      "                               ...  \n",
      "LOAN COMPANY                      15\n",
      "COMMERCIAL BLDG                    4\n",
      "SOCIAL CLUB/POLICY LOCATI          3\n",
      "TRAMWAY                            3\n",
      "JEWELRY STORE                      1\n",
      "Name: count, Length: 84, dtype: int64\n",
      "Unique values in column 'SUSP_AGE_GROUP': SUSP_AGE_GROUP\n",
      "UNKNOWN    239538\n",
      "25-44      100553\n",
      "45-64       34023\n",
      "18-24       29546\n",
      "<18          6631\n",
      "65+          3327\n",
      "2020           10\n",
      "2019            2\n",
      "-977            1\n",
      "-962            1\n",
      "-71             1\n",
      "-12             1\n",
      "-942            1\n",
      "1020            1\n",
      "-965            1\n",
      "1925            1\n",
      "-928            1\n",
      "Name: count, dtype: int64\n",
      "Unique values in column 'SUSP_RACE': SUSP_RACE\n",
      "UNKNOWN                           191033\n",
      "BLACK                             115328\n",
      "WHITE HISPANIC                     50643\n",
      "WHITE                              29170\n",
      "BLACK HISPANIC                     15976\n",
      "ASIAN / PACIFIC ISLANDER           10871\n",
      "AMERICAN INDIAN/ALASKAN NATIVE       618\n",
      "Name: count, dtype: int64\n",
      "Unique values in column 'SUSP_SEX': SUSP_SEX\n",
      "M          186398\n",
      "UNKNOWN     94886\n",
      "U           82909\n",
      "F           49446\n",
      "Name: count, dtype: int64\n",
      "Unique values in column 'VIC_AGE_GROUP': VIC_AGE_GROUP\n",
      "25-44      159939\n",
      "UNKNOWN    100154\n",
      "45-64       84728\n",
      "18-24       37563\n",
      "65+         19012\n",
      "<18         12222\n",
      "-948            2\n",
      "943             1\n",
      "-4              1\n",
      "-967            1\n",
      "-958            1\n",
      "-968            1\n",
      "949             1\n",
      "-973            1\n",
      "-2              1\n",
      "932             1\n",
      "-31             1\n",
      "-938            1\n",
      "1016            1\n",
      "1014            1\n",
      "-60             1\n",
      "-1              1\n",
      "-965            1\n",
      "938             1\n",
      "950             1\n",
      "-963            1\n",
      "Name: count, dtype: int64\n",
      "Unique values in column 'VIC_RACE': VIC_RACE\n",
      "UNKNOWN                           109808\n",
      "BLACK                             109797\n",
      "WHITE HISPANIC                     76259\n",
      "WHITE                              66112\n",
      "ASIAN / PACIFIC ISLANDER           32344\n",
      "BLACK HISPANIC                     17991\n",
      "AMERICAN INDIAN/ALASKAN NATIVE      1328\n",
      "Name: count, dtype: int64\n",
      "Unique values in column 'VIC_SEX': VIC_SEX\n",
      "F          164612\n",
      "M          152312\n",
      "D           63173\n",
      "E           33541\n",
      "UNKNOWN         1\n",
      "Name: count, dtype: int64\n",
      "Unique values in column 'MONTH': MONTH\n",
      "1     39155\n",
      "10    37856\n",
      "8     37828\n",
      "9     36428\n",
      "2     36425\n",
      "7     35788\n",
      "11    34843\n",
      "12    33850\n",
      "3     32717\n",
      "6     32616\n",
      "5     31925\n",
      "4     24208\n",
      "Name: count, dtype: int64\n",
      "Unique values in column 'NTA2020': NTA2020\n",
      "MN1102    6995\n",
      "BK0302    6430\n",
      "BX0101    6377\n",
      "BK0301    5640\n",
      "MN0502    5603\n",
      "          ... \n",
      "QN0151       4\n",
      "BK1892       3\n",
      "SI9561       1\n",
      "QN0761       1\n",
      "QN8491       1\n",
      "Name: count, Length: 251, dtype: int64\n"
     ]
    }
   ],
   "source": [
    "for column in df.columns:\n",
    "    print(f\"Unique values in column '{column}': { df[column].value_counts()}\")"
   ]
  },
  {
   "cell_type": "markdown",
   "id": "d9b5288e",
   "metadata": {},
   "source": [
    "Group my same column value"
   ]
  },
  {
   "cell_type": "code",
   "execution_count": 34,
   "id": "8c5a6aea",
   "metadata": {},
   "outputs": [],
   "source": [
    "df = df.groupby(list(df.columns)).size().reset_index(name='count')"
   ]
  },
  {
   "cell_type": "code",
   "execution_count": 35,
   "id": "a1c66d5c",
   "metadata": {},
   "outputs": [
    {
     "data": {
      "text/plain": [
       "(384541, 15)"
      ]
     },
     "execution_count": 35,
     "metadata": {},
     "output_type": "execute_result"
    }
   ],
   "source": [
    "df.shape"
   ]
  }
 ],
 "metadata": {
  "kernelspec": {
   "display_name": "Python 3",
   "language": "python",
   "name": "python3"
  },
  "language_info": {
   "codemirror_mode": {
    "name": "ipython",
    "version": 3
   },
   "file_extension": ".py",
   "mimetype": "text/x-python",
   "name": "python",
   "nbconvert_exporter": "python",
   "pygments_lexer": "ipython3",
   "version": "3.12.0"
  }
 },
 "nbformat": 4,
 "nbformat_minor": 5
}
