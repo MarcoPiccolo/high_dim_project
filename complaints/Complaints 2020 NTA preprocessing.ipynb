{
 "cells": [
  {
   "cell_type": "markdown",
   "id": "f0ee3224-5897-4903-b465-21d9a77071bc",
   "metadata": {},
   "source": [
    "Preprocessing of the complaints 2020 NTA dataset"
   ]
  },
  {
   "cell_type": "code",
   "execution_count": 1,
   "id": "ea44b028",
   "metadata": {},
   "outputs": [],
   "source": [
    "import pandas as pd\n",
    "import geopandas as gpd\n",
    "from shapely.geometry import Point # used to find the corresponding spatial zone\n",
    "import sys"
   ]
  },
  {
   "cell_type": "code",
   "execution_count": null,
   "id": "b5b8f138",
   "metadata": {},
   "outputs": [],
   "source": [
    "# define processing functions\n",
    "def FilterColumns(df, var_df):\n",
    "    '''Filter pandas dataframe columns.\n",
    "    \n",
    "    Args:\n",
    "        - df (pd.dataframe): pandas dataframe object\n",
    "        - var_df (list): pandas dataframe with variables to keep \n",
    "        two columns: name, keep (0 or 1): if 1 keep, else discard\n",
    "    \n",
    "    Return: \n",
    "        pd.dataframe of filtered pandas dataframe with only the columns\n",
    "        for which keep == 1 in var_df\n",
    "    '''\n",
    "    \n",
    "    var_to_keep_list = var_df[var_df[\"keep\"] == 1]\n",
    "    var_to_keep_list = list(var_to_keep_list[\"name\"])\n",
    "    \n",
    "    return(df.loc[:, var_to_keep_list])\n",
    "\n",
    "def FilterRowsContains(df, var_name, accepted_var_values):\n",
    "    '''Filter pandas dataframe rows by keeping only the rows for which\n",
    "    the var_name column contains at least one the accepted values.\n",
    "    Example accepted_var_values = [\"ab\", \"bc\", \"cd\"]\n",
    "    and one row has var_name value = \"abc\" -> it's gonna be kept because it contains\n",
    "    both \"ab\" both \"bc\" so at least one of the values in [\"ab\", \"bc\", \"cd\"].\n",
    "    \n",
    "    Args:\n",
    "        - df (pd.dataframe): pandas dataframe object\n",
    "        - var_name (str): name of the variable where the condition is checked \n",
    "        - accepted_var_values: \n",
    "    \n",
    "    Return: \n",
    "        - pd.dataframe of filtered pandas dataframe with only the rows satisfying the condition\n",
    "    '''\n",
    "    \n",
    "    return(df[df[var_name].apply(lambda x: any(val in x for val in accepted_var_values))])\n",
    "\n",
    "def ConvertToGeodf(df, long = \"Longitude\", lat = \"Latitude\", crs = \"EPSG:4326\"):\n",
    "    '''\n",
    "    Args:\n",
    "        - crs (str): coordinates system\n",
    "    '''\n",
    "    # Create a GeoDataFrame from the CSV data\n",
    "    geometry = [Point(xy) for xy in zip(df[long], df[lat])]\n",
    "    # convert original data frame to geo pandas data frame\n",
    "    \n",
    "    gpdf = gpd.GeoDataFrame(df, geometry = geometry)\n",
    "    gpdf.crs = crs\n",
    "    \n",
    "    return(gpdf)\n",
    "\n",
    "def SJoinWithinGeo(geodf_units, geodf2_polygons):\n",
    "    '''Join two geopandas dataframes by latitude and longitude coordinates.\n",
    "    More specifically join by checking the which rows of geodf_units\n",
    "    fall inside poligons of geodf_polygons.\n",
    "    '''\n",
    "    return(gpd.sjoin(geodf_units, geodf2_polygons, how=\"left\", predicate=\"within\"))\n"
   ]
  },
  {
   "cell_type": "code",
   "execution_count": 2,
   "id": "4f5e0a71-72af-4a6d-83b3-8679986c5ef3",
   "metadata": {},
   "outputs": [],
   "source": [
    "# select path and parameters for the scripts\n",
    "# starting core datatset path"
   ]
  }
 ],
 "metadata": {
  "kernelspec": {
   "display_name": "Python 3",
   "language": "python",
   "name": "python3"
  },
  "language_info": {
   "codemirror_mode": {
    "name": "ipython",
    "version": 3
   },
   "file_extension": ".py",
   "mimetype": "text/x-python",
   "name": "python",
   "nbconvert_exporter": "python",
   "pygments_lexer": "ipython3",
   "version": "3.12.0"
  }
 },
 "nbformat": 4,
 "nbformat_minor": 5
}
